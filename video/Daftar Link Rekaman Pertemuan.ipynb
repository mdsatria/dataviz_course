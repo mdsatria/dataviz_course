{
 "cells": [
  {
   "cell_type": "markdown",
   "metadata": {},
   "source": [
    "# Data Preprocessing with Pandas\n",
    "\n",
    "https://web.microsoftstream.com/video/4e0211f0-5484-4342-ba8a-3c3308fbbf3a"
   ]
  },
  {
   "cell_type": "markdown",
   "metadata": {},
   "source": [
    "# Visualisasi untuk Perbandingan Nilai\n",
    "\n",
    "https://web.microsoftstream.com/video/1f106386-2dee-4cd3-a20e-61e503782005 *recording not complete*"
   ]
  },
  {
   "cell_type": "markdown",
   "metadata": {},
   "source": [
    "# Visualisasi untuk Perubahan Nilai/Trend & Storytelling\n",
    "\n",
    "https://web.microsoftstream.com/video/8592a90c-3e27-4bd7-b56b-917e878b456d"
   ]
  },
  {
   "cell_type": "markdown",
   "metadata": {},
   "source": [
    "# Visualisasi untuk Hubungan Antar Variabel\n",
    "\n",
    "https://web.microsoftstream.com/video/f68642b1-5d71-4ac9-bbf7-a91fb25b801e *(part 1) <"
   ]
  },
  {
   "cell_type": "markdown",
   "metadata": {},
   "source": []
  }
 ],
 "metadata": {
  "kernelspec": {
   "display_name": "Python 3",
   "language": "python",
   "name": "python3"
  },
  "language_info": {
   "codemirror_mode": {
    "name": "ipython",
    "version": 3
   },
   "file_extension": ".py",
   "mimetype": "text/x-python",
   "name": "python",
   "nbconvert_exporter": "python",
   "pygments_lexer": "ipython3",
   "version": "3.6.8"
  }
 },
 "nbformat": 4,
 "nbformat_minor": 2
}
