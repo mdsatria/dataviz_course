{
 "cells": [
  {
   "cell_type": "markdown",
   "metadata": {},
   "source": [
    "# Project Final Data Visualization"
   ]
  },
  {
   "cell_type": "markdown",
   "metadata": {},
   "source": [
    "**IDENTITAS**\n",
    "\n",
    "Nama : <br>\n",
    "NIM : <br>\n",
    "Kelas : <br>"
   ]
  },
  {
   "cell_type": "markdown",
   "metadata": {},
   "source": [
    "-------------------------------"
   ]
  },
  {
   "cell_type": "markdown",
   "metadata": {},
   "source": [
    "## <center> Dataset Buku <center>"
   ]
  },
  {
   "cell_type": "markdown",
   "metadata": {},
   "source": [
    "### Read Data"
   ]
  },
  {
   "cell_type": "code",
   "execution_count": 1,
   "metadata": {},
   "outputs": [],
   "source": [
    "# read data"
   ]
  },
  {
   "cell_type": "markdown",
   "metadata": {},
   "source": [
    "### Ekplorasi Data"
   ]
  },
  {
   "cell_type": "code",
   "execution_count": 2,
   "metadata": {},
   "outputs": [],
   "source": [
    "# Lakukakan semua langkah yang Anda perlukan untuk mengenali lebih dalam data yang Anda gunakan.\n",
    "# Sertai dengan keterangan setiap langkah yang Anda kerjakan"
   ]
  },
  {
   "cell_type": "markdown",
   "metadata": {},
   "source": [
    "### Data Preprocessing"
   ]
  },
  {
   "cell_type": "code",
   "execution_count": 3,
   "metadata": {},
   "outputs": [],
   "source": [
    "# Lakukakan semua langkah yang Anda perlukan untuk membersihkan data Anda sebelum melakukan visualisasi.\n",
    "# Sertai dengan keterangan setiap langkah yang Anda kerjakan"
   ]
  },
  {
   "cell_type": "markdown",
   "metadata": {},
   "source": [
    "### Rumusan Pertanyaan"
   ]
  },
  {
   "cell_type": "markdown",
   "metadata": {},
   "source": [
    "Pada bagian ini silahkan kemukakan informasi yang ingin Anda sampaikan dari dataset dengan bentuk pertanyaan. <br>\n",
    "Pertanyaan **minimal 3 buah**, dapat terdiri terdiri dari 1 visualisasi perbandingan, 1 visualisasi trend, 1 visualisasi korelasi. <br>"
   ]
  },
  {
   "cell_type": "markdown",
   "metadata": {},
   "source": [
    "### Visualisasi 1"
   ]
  },
  {
   "cell_type": "code",
   "execution_count": 4,
   "metadata": {},
   "outputs": [],
   "source": [
    "# Lakukakan semua langkah yang Anda perlukan untuk melakukan visualisasi. Lengkapi komponen grafik\n",
    "# Sertai dengan keterangan setiap langkah yang Anda kerjakan"
   ]
  },
  {
   "cell_type": "markdown",
   "metadata": {},
   "source": [
    "Jelaskan informasi apa yang dapat Anda ceritakan kepada pembaca dari hasil visualisasi. Minimal 50 kata"
   ]
  },
  {
   "cell_type": "markdown",
   "metadata": {},
   "source": [
    "### Visualisasi 2"
   ]
  },
  {
   "cell_type": "code",
   "execution_count": 5,
   "metadata": {},
   "outputs": [],
   "source": [
    "# Lakukakan semua langkah yang Anda perlukan untuk melakukan visualisasi. Lengkapi komponen grafik\n",
    "# Sertai dengan keterangan setiap langkah yang Anda kerjakan"
   ]
  },
  {
   "cell_type": "markdown",
   "metadata": {},
   "source": [
    "Jelaskan informasi apa yang dapat Anda ceritakan kepada pembaca dari hasil visualisasi. Minimal 50 kata"
   ]
  },
  {
   "cell_type": "markdown",
   "metadata": {},
   "source": [
    "### Visualisasi 3"
   ]
  },
  {
   "cell_type": "code",
   "execution_count": 6,
   "metadata": {},
   "outputs": [],
   "source": [
    "# Lakukakan semua langkah yang Anda perlukan untuk melakukan visualisasi. Lengkapi komponen grafik\n",
    "# Sertai dengan keterangan setiap langkah yang Anda kerjakan\n",
    "# Ceritakan informasi apa yang Anda dapatkan setelah hasil visualisasi Anda kerjakan"
   ]
  },
  {
   "cell_type": "markdown",
   "metadata": {},
   "source": [
    "Jelaskan informasi apa yang dapat Anda ceritakan kepada pembaca dari hasil visualisasi. Minimal 50 kata"
   ]
  },
  {
   "cell_type": "markdown",
   "metadata": {},
   "source": [
    "### Simpulan"
   ]
  },
  {
   "cell_type": "markdown",
   "metadata": {},
   "source": [
    "Jelaskan rangkuman informasi yang Anda dapatkan dari keseluruhan visualisasi yang telah Anda buat MINIMAL 120 KATA"
   ]
  },
  {
   "cell_type": "markdown",
   "metadata": {},
   "source": [
    "--------------"
   ]
  },
  {
   "cell_type": "markdown",
   "metadata": {},
   "source": [
    "----------------------"
   ]
  },
  {
   "cell_type": "markdown",
   "metadata": {},
   "source": [
    "## <center> Dataset pilihan <center>\n",
    "*NIM ganjil data mobil* <br>\n",
    "*NIM genap data video games*"
   ]
  },
  {
   "cell_type": "markdown",
   "metadata": {},
   "source": [
    "### Read Data"
   ]
  },
  {
   "cell_type": "code",
   "execution_count": 7,
   "metadata": {},
   "outputs": [],
   "source": [
    "# read data"
   ]
  },
  {
   "cell_type": "markdown",
   "metadata": {},
   "source": [
    "### Ekplorasi Data"
   ]
  },
  {
   "cell_type": "code",
   "execution_count": 8,
   "metadata": {},
   "outputs": [],
   "source": [
    "# Lakukakan semua langkah yang Anda perlukan untuk mengenali lebih dalam data yang Anda gunakan.\n",
    "# Sertai dengan keterangan setiap langkah yang Anda kerjakan"
   ]
  },
  {
   "cell_type": "markdown",
   "metadata": {},
   "source": [
    "### Data Preprocessing"
   ]
  },
  {
   "cell_type": "code",
   "execution_count": 9,
   "metadata": {},
   "outputs": [],
   "source": [
    "# Lakukakan semua langkah yang Anda perlukan untuk membersihkan data Anda sebelum melakukan visualisasi.\n",
    "# Sertai dengan keterangan setiap langkah yang Anda kerjakan"
   ]
  },
  {
   "cell_type": "markdown",
   "metadata": {},
   "source": [
    "### Rumusan Pertanyaan"
   ]
  },
  {
   "cell_type": "markdown",
   "metadata": {},
   "source": [
    "Pada bagian ini silahkan kemukakan informasi yang ingin Anda sampaikan dari dataset dengan bentuk pertanyaan. <br>\n",
    "Pertanyaan **minimal 3 buah**, dapat terdiri terdiri dari 1 visualisasi perbandingan, 1 visualisasi trend, 1 visualisasi korelasi. <br>"
   ]
  },
  {
   "cell_type": "markdown",
   "metadata": {},
   "source": [
    "### Visualisasi 1"
   ]
  },
  {
   "cell_type": "code",
   "execution_count": 10,
   "metadata": {},
   "outputs": [],
   "source": [
    "# Lakukakan semua langkah yang Anda perlukan untuk melakukan visualisasi. Lengkapi komponen grafik\n",
    "# Sertai dengan keterangan setiap langkah yang Anda kerjakan"
   ]
  },
  {
   "cell_type": "markdown",
   "metadata": {},
   "source": [
    "Jelaskan informasi apa yang dapat Anda ceritakan kepada pembaca dari hasil visualisasi. Minimal 50 kata"
   ]
  },
  {
   "cell_type": "markdown",
   "metadata": {},
   "source": [
    "### Visualisasi 2"
   ]
  },
  {
   "cell_type": "code",
   "execution_count": 11,
   "metadata": {},
   "outputs": [],
   "source": [
    "# Lakukakan semua langkah yang Anda perlukan untuk melakukan visualisasi. Lengkapi komponen grafik\n",
    "# Sertai dengan keterangan setiap langkah yang Anda kerjakan"
   ]
  },
  {
   "cell_type": "markdown",
   "metadata": {},
   "source": [
    "Jelaskan informasi apa yang dapat Anda ceritakan kepada pembaca dari hasil visualisasi. Minimal 50 kata"
   ]
  },
  {
   "cell_type": "markdown",
   "metadata": {},
   "source": [
    "### Visualisasi 3"
   ]
  },
  {
   "cell_type": "code",
   "execution_count": 13,
   "metadata": {},
   "outputs": [],
   "source": [
    "# Lakukakan semua langkah yang Anda perlukan untuk melakukan visualisasi. Lengkapi komponen grafik\n",
    "# Sertai dengan keterangan setiap langkah yang Anda kerjakan"
   ]
  },
  {
   "cell_type": "markdown",
   "metadata": {},
   "source": [
    "Jelaskan informasi apa yang dapat Anda ceritakan kepada pembaca dari hasil visualisasi. Minimal 50 kata"
   ]
  },
  {
   "cell_type": "markdown",
   "metadata": {},
   "source": [
    "### Simpulan"
   ]
  },
  {
   "cell_type": "markdown",
   "metadata": {},
   "source": [
    "Jelaskan rangkuman informasi yang Anda dapatkan dari keseluruhan visualisasi yang telah Anda buat MINIMAL 120 KATA"
   ]
  }
 ],
 "metadata": {
  "kernelspec": {
   "display_name": "Python 3",
   "language": "python",
   "name": "python3"
  },
  "language_info": {
   "codemirror_mode": {
    "name": "ipython",
    "version": 3
   },
   "file_extension": ".py",
   "mimetype": "text/x-python",
   "name": "python",
   "nbconvert_exporter": "python",
   "pygments_lexer": "ipython3",
   "version": "3.6.8"
  }
 },
 "nbformat": 4,
 "nbformat_minor": 2
}
