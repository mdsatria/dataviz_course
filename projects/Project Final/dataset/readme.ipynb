{
 "cells": [
  {
   "cell_type": "markdown",
   "metadata": {},
   "source": [
    "# Dataset Buku\n",
    "\n",
    "*data_buku.csv*\n",
    "\n",
    "data ini merupakan penjualan buku dalam suatu situs penjualan buku\n",
    "\n",
    "* bookID = kode buku\n",
    "* title = judul buku\n",
    "* authors = pengarang\n",
    "* average_rating = rata-rata rating dari user\n",
    "* isbn = International Standard Book Number\n",
    "* language_code = kode bahasa buku\n",
    "* num_pages = jumlah halaman buku\n",
    "* ratings_count = jumlah user yang melakukan rating\n",
    "* text_reviews_count = panjang teks review\n",
    "* publication_date = tanggal terbit buku"
   ]
  },
  {
   "cell_type": "markdown",
   "metadata": {},
   "source": [
    "## Dataset Cars\n",
    "\n",
    "*data_mobil.csv*\n",
    "\n",
    "data ini merupakan penjualan mobil di USA\n",
    "\n",
    "* price = harga dalam USD\n",
    "* brand = merk mobil\n",
    "* model = model mmobil\n",
    "* year = tahun mobil\n",
    "* mileage = jarak tempuh dalam mil\n",
    "* color = warna mobil\n",
    "* state = wilayah mobil terjual"
   ]
  },
  {
   "cell_type": "markdown",
   "metadata": {},
   "source": [
    "## Dataset Video Games\n",
    "\n",
    "*data_games.csv*\n",
    "\n",
    "data ini merupakan penjualan video games di seluruh dunia\n",
    "\n",
    "* Rank = ranking video games\n",
    "* Name = judul video games\n",
    "* Platform = platform/media games\n",
    "* Year = tahun rilis video games\n",
    "* Genre = jenis video games\n",
    "* Publisher = penerbit video games\n",
    "* NA_Sales = penjualan di Amerika Utara (dalam juta)\n",
    "* EU_Sales = penjualan di Eropa (dalam juta)\n",
    "* JP_Sales = penjualan di Jepang (dalam juta)\n",
    "* Other_Sales = penjualan di daerah lainnya (dalam juta)\n",
    "* Global_Sales = penjualan global (dalam juta)"
   ]
  }
 ],
 "metadata": {
  "kernelspec": {
   "display_name": "Python 3",
   "language": "python",
   "name": "python3"
  },
  "language_info": {
   "codemirror_mode": {
    "name": "ipython",
    "version": 3
   },
   "file_extension": ".py",
   "mimetype": "text/x-python",
   "name": "python",
   "nbconvert_exporter": "python",
   "pygments_lexer": "ipython3",
   "version": "3.6.8"
  }
 },
 "nbformat": 4,
 "nbformat_minor": 2
}
