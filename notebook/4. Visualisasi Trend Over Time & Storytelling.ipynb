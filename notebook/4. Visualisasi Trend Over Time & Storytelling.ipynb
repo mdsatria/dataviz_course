{
 "cells": [
  {
   "cell_type": "markdown",
   "metadata": {},
   "source": [
    "# <CENTER> TREND ANALYSIS</CENTER>"
   ]
  },
  {
   "cell_type": "markdown",
   "metadata": {},
   "source": [
    "<img src='https://raw.githubusercontent.com/mdsatria/dataviz_course/master/notebook/img/kowalski.png'>"
   ]
  },
  {
   "cell_type": "markdown",
   "metadata": {},
   "source": [
    "Analisis tren adalah proses untuk mendapatkan pola yang memiliki generalisasi terhadap data dan memiliki sifat yang berulang-ulang. Pola ini merupakan terdiri dari dua komponen, variabel bebas ($x$) dan variabel tergantung ($y$).\n",
    "\n",
    "Variabel $x$ umumnya merupakan satuan waktu (detik, jam, hari, bulan, tahun, dsb) dan variabel $y$ merupakan hasil pengukuran **satu atribut** dari **suatu objek**. Namun, variabel $x$ dapat juga bukan merupakan waktu melainkan suatu sekuen nilai yang linear. Misalnya [1, 2, 3, 4, ..., n] atau $[x_1, x_2, x_3, x_4, ..., x_n]$.\n",
    "\n",
    "Pola yang tercipta dari analisis tren dapat digunakan untuk memprediksikan nilai $y_n$. Visualisasi tren sudah dapat menemukan pola secara garis besar. Secara lebih jauh, kita dapat menggunakan perhitungan matematika untuk menentukan pola dan membuat prediksi.\n",
    "\n"
   ]
  },
  {
   "cell_type": "markdown",
   "metadata": {},
   "source": [
    "## Analisis Cuaca di Denpasar pada Tahun 1990-2020"
   ]
  },
  {
   "cell_type": "markdown",
   "metadata": {},
   "source": [
    "## Dataset"
   ]
  },
  {
   "cell_type": "code",
   "execution_count": null,
   "metadata": {},
   "outputs": [],
   "source": []
  },
  {
   "cell_type": "code",
   "execution_count": null,
   "metadata": {},
   "outputs": [],
   "source": []
  },
  {
   "cell_type": "code",
   "execution_count": null,
   "metadata": {},
   "outputs": [],
   "source": []
  },
  {
   "cell_type": "code",
   "execution_count": null,
   "metadata": {},
   "outputs": [],
   "source": []
  },
  {
   "cell_type": "code",
   "execution_count": null,
   "metadata": {},
   "outputs": [],
   "source": []
  },
  {
   "cell_type": "markdown",
   "metadata": {},
   "source": [
    "**Deskripsi dataset :**\n",
    "\n",
    "Dataset tersebut menggambarkan keadaan cuaca di Denpasar dari kurun waktu 1990-2020 yang diambil setiap jam."
   ]
  },
  {
   "cell_type": "markdown",
   "metadata": {},
   "source": [
    "## Data Cleaning"
   ]
  },
  {
   "cell_type": "code",
   "execution_count": null,
   "metadata": {},
   "outputs": [],
   "source": []
  },
  {
   "cell_type": "code",
   "execution_count": null,
   "metadata": {},
   "outputs": [],
   "source": []
  },
  {
   "cell_type": "code",
   "execution_count": null,
   "metadata": {},
   "outputs": [],
   "source": []
  },
  {
   "cell_type": "code",
   "execution_count": null,
   "metadata": {},
   "outputs": [],
   "source": []
  },
  {
   "cell_type": "markdown",
   "metadata": {},
   "source": [
    "## Datetime Handling"
   ]
  },
  {
   "cell_type": "markdown",
   "metadata": {},
   "source": [
    "Salah satu kelebihan Pandas adalah kemampuan memproses time series data (https://pandas.pydata.org/pandas-docs/stable/user_guide/timeseries.html). Data yang memiliki tipe time series  bermanfaat untuk analisis trend dengan lebih mudah. Kita dapat mengekstrak pola berdasarkan interval waktu, memberikan informasi yang mudah dicerna melalui visualisasi serta melakukan prediksi nilai."
   ]
  },
  {
   "cell_type": "code",
   "execution_count": null,
   "metadata": {},
   "outputs": [],
   "source": []
  },
  {
   "cell_type": "code",
   "execution_count": null,
   "metadata": {},
   "outputs": [],
   "source": []
  },
  {
   "cell_type": "code",
   "execution_count": null,
   "metadata": {},
   "outputs": [],
   "source": []
  },
  {
   "cell_type": "code",
   "execution_count": null,
   "metadata": {},
   "outputs": [],
   "source": []
  },
  {
   "cell_type": "code",
   "execution_count": null,
   "metadata": {},
   "outputs": [],
   "source": []
  },
  {
   "cell_type": "markdown",
   "metadata": {},
   "source": [
    "## Indexing dengan Datetime"
   ]
  },
  {
   "cell_type": "markdown",
   "metadata": {},
   "source": [
    "<img src='https://raw.githubusercontent.com/mdsatria/dataviz_course/master/notebook/img/iwillfindyou.png'>"
   ]
  },
  {
   "cell_type": "markdown",
   "metadata": {},
   "source": [
    "**Indexing DataFrame biasa di Pandas**\n",
    "\n",
    "Indexing row/object data dalam pandas dapat menggunakan fungsi *.loc* atau *.iloc*. Secara umum formatnya adalah sebagai berikut :\n",
    "\n",
    "    nama_DataFrame.iloc[*index]  # dapat menggunakan label\n",
    "    nama_DataFrame.loc[*index]   # hanya dapat menggunakan posisi integer\n",
    "\n",
    "*index terdiri dari 2 int\n",
    "\n",
    "[:,:] = memilih semua row dan column <br>\n",
    "[0,:] = memilih row ke-0 dan semua column <br>\n",
    "[:,0] = memilih semua row dan column ke-0"
   ]
  },
  {
   "cell_type": "code",
   "execution_count": null,
   "metadata": {},
   "outputs": [],
   "source": []
  },
  {
   "cell_type": "markdown",
   "metadata": {},
   "source": [
    "**Indexing dengan DateTime**\n",
    "\n",
    "Adanya timestamp dalam dataset dapat memudahkan kita dalam melihat data sesuai dengan waktu yang kita ingginkan. Misalkan saja, Anda ingin mengetahui suhu sepanjang tahun 1990, suhu pada bulan Desember 2010 atau suhu pada tanggal 1 Januari 2002 pukul 15.00. \n",
    "\n",
    "Untuk melakukan hal tersebut, kita harus mengubah index data kita dengan timestamp."
   ]
  },
  {
   "cell_type": "code",
   "execution_count": null,
   "metadata": {},
   "outputs": [],
   "source": []
  },
  {
   "cell_type": "code",
   "execution_count": null,
   "metadata": {},
   "outputs": [],
   "source": []
  },
  {
   "cell_type": "markdown",
   "metadata": {},
   "source": [
    "Jika Anda perhatikan cuplikan dataset di atas, terlihat index dataset saat ini adalah date/tanggal. Dengan index tersebut kita dapat memilih (istilahnya *slicing* data) objek data/row dengan datetime. \n",
    "\n",
    "Indexing sesuai dengan format tanggal. Dalam contoh dataset kita, formatnya adalah YYYY-MM-DD, HH-MM-SS (year - month - day, hour - minute - second). Maka, sesuai format tersebut kita dapat memilih object data sebagai berikut :\n",
    "\n",
    "    1. df.loc['1990'] = menampilkan semua data pada tahun 1990\n",
    "    2. df.loc['1990-01'] = menampilkan semua data pada bulan Januari tahun 1990\n",
    "    3. df.loc['1990-01-01'] = menampilkan semua data pada tanggal 1 bulan Januari tahun 1990\n",
    "    dst\n",
    "    \n",
    "Secara umum, penulisannya adalah sebagai berikut :\n",
    "**nama_DataFrame['YYYY-MM-DD  HH:MM:SS']**"
   ]
  },
  {
   "cell_type": "code",
   "execution_count": null,
   "metadata": {},
   "outputs": [],
   "source": []
  },
  {
   "cell_type": "markdown",
   "metadata": {},
   "source": [
    "### <div class=\"alert alert-block alert-info\">Latihan 1</div> "
   ]
  },
  {
   "cell_type": "markdown",
   "metadata": {},
   "source": [
    "*1. Tampilkan data pada hari tanggal 3 september 2002 ?*"
   ]
  },
  {
   "cell_type": "code",
   "execution_count": 1,
   "metadata": {},
   "outputs": [],
   "source": [
    "# tulis code di sini"
   ]
  },
  {
   "cell_type": "markdown",
   "metadata": {},
   "source": [
    "(tulis jawaban di sini)"
   ]
  },
  {
   "cell_type": "markdown",
   "metadata": {},
   "source": [
    "*2. Berapakah rata-rata suhu pada bulan Januari 2010?*"
   ]
  },
  {
   "cell_type": "code",
   "execution_count": 2,
   "metadata": {},
   "outputs": [],
   "source": [
    "# tulis code di sini"
   ]
  },
  {
   "cell_type": "markdown",
   "metadata": {},
   "source": [
    "(tulis jawaban di sini)"
   ]
  },
  {
   "cell_type": "markdown",
   "metadata": {},
   "source": [
    "*3. Di antara dua bulan, yaitu bulan Desember 1998 dan Desember 1997, manakah yang memiliki kelembapan rata-rata yang lebih rendah?*"
   ]
  },
  {
   "cell_type": "code",
   "execution_count": 3,
   "metadata": {},
   "outputs": [],
   "source": [
    "# tulis code di sini"
   ]
  },
  {
   "cell_type": "markdown",
   "metadata": {},
   "source": [
    "(tulis jawaban di sini)"
   ]
  },
  {
   "cell_type": "markdown",
   "metadata": {},
   "source": [
    "## Feature Engineering"
   ]
  },
  {
   "cell_type": "markdown",
   "metadata": {},
   "source": [
    "Dengan index berupa datetime, kita dapat melakukan feature engineering lebih lanjut untuk mendapatkan atribut seperti tahun, bulan, tanggal dst."
   ]
  },
  {
   "cell_type": "markdown",
   "metadata": {},
   "source": [
    "### <div class=\"alert alert-block alert-info\">QUIZ TIME!</div>"
   ]
  },
  {
   "cell_type": "markdown",
   "metadata": {},
   "source": [
    "**Apa yang disebut dengan feature engineering ?**"
   ]
  },
  {
   "cell_type": "markdown",
   "metadata": {},
   "source": [
    "<img src='https://raw.githubusercontent.com/mdsatria/dataviz_course/master/notebook/img/batman.gif'>"
   ]
  },
  {
   "cell_type": "markdown",
   "metadata": {},
   "source": [
    "\n",
    "\n",
    "*(gunakan bahasa sendiri, jangan cuma copas dari google)*\n",
    "\n",
    "* Feature engineering adalah .......................\n",
    "\n",
    "\n",
    "\n",
    "* Tujuan dari feature engineering secara umum adalah..............\n",
    "\n",
    "\n",
    "\n"
   ]
  },
  {
   "cell_type": "code",
   "execution_count": null,
   "metadata": {},
   "outputs": [],
   "source": []
  },
  {
   "cell_type": "code",
   "execution_count": null,
   "metadata": {},
   "outputs": [],
   "source": []
  },
  {
   "cell_type": "code",
   "execution_count": null,
   "metadata": {},
   "outputs": [],
   "source": []
  },
  {
   "cell_type": "code",
   "execution_count": null,
   "metadata": {},
   "outputs": [],
   "source": []
  },
  {
   "cell_type": "markdown",
   "metadata": {},
   "source": [
    "## Datetime Resample"
   ]
  },
  {
   "cell_type": "markdown",
   "metadata": {},
   "source": [
    "Mari kita coba visualisasikan suhu"
   ]
  },
  {
   "cell_type": "code",
   "execution_count": null,
   "metadata": {},
   "outputs": [],
   "source": []
  },
  {
   "cell_type": "markdown",
   "metadata": {},
   "source": [
    "Dari plot di atas kita dapat melihat grafik yang kita tampilkan terlalu dense/padat. Hal ini dikarenakan banyaknya poin data yang terhubung, sejumlah $RentangTahun\\times12\\times365\\times24$.\n",
    "\n",
    "Untuk mengatasi hal tersebut, kita dapat menggunakan **.resample()** untuk menyampling ulang dataset ke dalam bentuk aggregatnya. Misalnya dalam bentuk per-bulan, per-tahun, per-kuartal, dst."
   ]
  },
  {
   "cell_type": "code",
   "execution_count": null,
   "metadata": {},
   "outputs": [],
   "source": []
  },
  {
   "cell_type": "markdown",
   "metadata": {},
   "source": [
    "**PERHATIKAN TIPE ATRIBUT UNTUK RESAMPLING**\n",
    "\n",
    "Tidak semua tipe atribut cocok diterapkan untuk fungsi aggregat yang sama. Lihat lagi materi tentang Data dalam folder materi."
   ]
  },
  {
   "cell_type": "markdown",
   "metadata": {},
   "source": [
    "Contoh kali ini kita akan menggunakan atribut numerik/ratio."
   ]
  },
  {
   "cell_type": "code",
   "execution_count": null,
   "metadata": {},
   "outputs": [],
   "source": []
  },
  {
   "cell_type": "markdown",
   "metadata": {},
   "source": [
    "Penentuan parameter resample dapat Anda lihat di https://pandas.pydata.org/pandas-docs/stable/user_guide/timeseries.html#dateoffset-objects\n",
    "\n",
    "Kali ini kita akan sampling data per-bulan."
   ]
  },
  {
   "cell_type": "code",
   "execution_count": null,
   "metadata": {},
   "outputs": [],
   "source": []
  },
  {
   "cell_type": "code",
   "execution_count": null,
   "metadata": {},
   "outputs": [],
   "source": []
  },
  {
   "cell_type": "code",
   "execution_count": null,
   "metadata": {},
   "outputs": [],
   "source": []
  },
  {
   "cell_type": "markdown",
   "metadata": {},
   "source": [
    "### <div class=\"alert alert-block alert-info\">Latihan 2</div> "
   ]
  },
  {
   "cell_type": "markdown",
   "metadata": {},
   "source": [
    "*1. Resample data menjadi 3 bulan sekali dan simpan ke variabel df_quarter*"
   ]
  },
  {
   "cell_type": "code",
   "execution_count": 4,
   "metadata": {},
   "outputs": [],
   "source": [
    "# code di sini"
   ]
  },
  {
   "cell_type": "markdown",
   "metadata": {},
   "source": [
    "*2. Bulan apakah yang memiliki kecepatan angin terendah dalam tahun 1998? Buktikan dalam visualisasi*"
   ]
  },
  {
   "cell_type": "code",
   "execution_count": 5,
   "metadata": {},
   "outputs": [],
   "source": [
    "# code di sini"
   ]
  },
  {
   "cell_type": "markdown",
   "metadata": {},
   "source": [
    "(tulis jawaban di sini)"
   ]
  },
  {
   "cell_type": "markdown",
   "metadata": {},
   "source": [
    "## Visualization"
   ]
  },
  {
   "cell_type": "markdown",
   "metadata": {},
   "source": [
    "### Pertanyaan"
   ]
  },
  {
   "cell_type": "markdown",
   "metadata": {},
   "source": [
    "    1. Bulan apakah yang paling kering dalam tahun 2019 ?\n",
    "    2. Bagaimana pola hujan dari tahun 1990, 1995, 2000, 2005, 2010, 2015 ?\n",
    "    3. Bagaimana pola suhu dalam satu bulan di bulan Desember 1995 ?"
   ]
  },
  {
   "cell_type": "markdown",
   "metadata": {},
   "source": [
    "### Solusi"
   ]
  },
  {
   "cell_type": "markdown",
   "metadata": {},
   "source": [
    "**Bulan apakah yang paling kering dalam tahun 2019 ?**\n",
    "\n",
    "Dalam menentukan bulan yang paling kering kita dapat melihat tipe cuaca dari kolom weather_main"
   ]
  },
  {
   "cell_type": "code",
   "execution_count": null,
   "metadata": {},
   "outputs": [],
   "source": []
  },
  {
   "cell_type": "code",
   "execution_count": null,
   "metadata": {},
   "outputs": [],
   "source": []
  },
  {
   "cell_type": "code",
   "execution_count": null,
   "metadata": {},
   "outputs": [],
   "source": []
  },
  {
   "cell_type": "code",
   "execution_count": null,
   "metadata": {},
   "outputs": [],
   "source": []
  },
  {
   "cell_type": "code",
   "execution_count": null,
   "metadata": {},
   "outputs": [],
   "source": []
  },
  {
   "cell_type": "code",
   "execution_count": null,
   "metadata": {},
   "outputs": [],
   "source": []
  },
  {
   "cell_type": "code",
   "execution_count": null,
   "metadata": {},
   "outputs": [],
   "source": []
  },
  {
   "cell_type": "code",
   "execution_count": null,
   "metadata": {},
   "outputs": [],
   "source": []
  },
  {
   "cell_type": "code",
   "execution_count": null,
   "metadata": {},
   "outputs": [],
   "source": []
  },
  {
   "cell_type": "code",
   "execution_count": null,
   "metadata": {},
   "outputs": [],
   "source": []
  },
  {
   "cell_type": "markdown",
   "metadata": {},
   "source": [
    "**Bagaimana pola hujan dari tahun 1990, 1995, 2000, 2005, 2010 2015 ?**\n",
    "\n",
    "Jawaban ini hampir sama dengan jawaban sebelumnya, untuk memudahkan kita akan membuat function dari proses di atas."
   ]
  },
  {
   "cell_type": "code",
   "execution_count": null,
   "metadata": {},
   "outputs": [],
   "source": []
  },
  {
   "cell_type": "code",
   "execution_count": null,
   "metadata": {},
   "outputs": [],
   "source": []
  },
  {
   "cell_type": "code",
   "execution_count": null,
   "metadata": {},
   "outputs": [],
   "source": []
  },
  {
   "cell_type": "markdown",
   "metadata": {},
   "source": [
    "**Bagaimana pola suhu dalam satu bulan di bulan Desember 1995**\n",
    "\n",
    "Untuk menjawab pertanyaan ini, kita akan menggunakan grafik heatmap dan function pivot_table pada Pandas (https://pandas.pydata.org/pandas-docs/stable/reference/api/pandas.pivot_table.html)"
   ]
  },
  {
   "cell_type": "code",
   "execution_count": null,
   "metadata": {},
   "outputs": [],
   "source": []
  },
  {
   "cell_type": "code",
   "execution_count": null,
   "metadata": {},
   "outputs": [],
   "source": []
  },
  {
   "cell_type": "code",
   "execution_count": null,
   "metadata": {},
   "outputs": [],
   "source": []
  },
  {
   "cell_type": "code",
   "execution_count": null,
   "metadata": {},
   "outputs": [],
   "source": []
  },
  {
   "cell_type": "markdown",
   "metadata": {},
   "source": [
    "## Storytelling"
   ]
  },
  {
   "cell_type": "markdown",
   "metadata": {},
   "source": [
    "* **Who**<br>\n",
    "    Siapa target audience Anda. Gunakan gaya bahasa yang sesuai dengan audience Anda. Namun, bahasa baku dengan ejaan yang benar adalah hal yang wajib\n",
    "* **Why**<br>\n",
    "    Kenapa Anda harus menceritakan data tersebut? Apa yang dapat diperoleh audience?\n",
    "* **What**<br>\n",
    "    Apa grafik yang Anda buat ?Pesan apa yang ingin Anda sampaikan? Dalam sekian banyak visual yang ada dalam sebuah grafik apa yang harus ditekankan? Apa pola yang menarik dalam sebuah grafik?\n",
    "* **How**<br>\n",
    "    Bagaimana cara Anda menceritakan informasi dalam visualisasi? Apakah dengan perbandingan kategori? Apakah dengan menceritakan perubahan nilai? Apakah menceritakan hubungan antar data?"
   ]
  },
  {
   "cell_type": "markdown",
   "metadata": {},
   "source": [
    "Contoh penyajian informasi dalam grafik heatmap di atas :\n",
    "\n",
    "\n",
    "Pada grafik heatmap di atas digambarkan suhu per-jam sepanjang hari selama bulan Desember tahun 2019. Sumbu x merupakan jam saat nilai suhu diambil dan sumbu y merupakan hari dalam bulan tersebut. Selain itu, nilai suhu digambarkan menggunakan gradasi warna dari biru ke merah. Semakin biru suhu semakin rendah dan semakin merah suhu semakin panas.\n",
    "\n",
    "Suhu pada bulan Desember tahun 2019 mengalami perubahan setiap jamnya. Namun begitu, sepanjang hari dalam periode tersebut memiliki pola yang hampir sama. Suhu mengalami kenaikan dimulai dari pukul 00.00 hingga mencapai puncaknya di kisaran waktu 03.00-09.00.  Suhu terpanas pada bulan tersebut mencapai puncaknya pada tanggal 7, 24, 25 dan 30 Desember. Pada tanggal tersebut, periode terpanas (03.00-09.00) mencapai suhu tertinggi hingga 34 derajat Celcius. Tidak sama seperti pada jam-jam yang panas, periode dingin dalam sehari lebih menyebar waktunya.  Suhu paling ekstrim terjadi pada tanggal 7 Desember 2019 pada periode tersebut. Tercatat suhu terendah dan suhu tertinggi terjadi dalam hari yang sama. Secara umum, suhu akan menurun dari pagi sekitar jam 09.00 hingga malam pukul 23.00 dan kemudian meningkat hingga pagi sekitar pukul 06.00.\n"
   ]
  },
  {
   "cell_type": "markdown",
   "metadata": {},
   "source": [
    "### <div class=\"alert alert-block alert-info\">Latihan 3</div>"
   ]
  },
  {
   "cell_type": "markdown",
   "metadata": {},
   "source": [
    "*1. Buatlah grafik heatmap yang menggambarkan kecepatan angin-perjam dalam bulan Januari 1990 dan Januari 2019!*"
   ]
  },
  {
   "cell_type": "code",
   "execution_count": 6,
   "metadata": {},
   "outputs": [],
   "source": [
    "# code di sini"
   ]
  },
  {
   "cell_type": "code",
   "execution_count": 7,
   "metadata": {},
   "outputs": [],
   "source": [
    "# code di sini"
   ]
  },
  {
   "cell_type": "markdown",
   "metadata": {},
   "source": [
    "*2. Informasi apa yang dapat Anda ambil dalam grafik Latihan 3 no 1 di atas? Kemukakan minimal 3 informasi penting dalam kalimat yang memiliki minimal 120 kata*"
   ]
  },
  {
   "cell_type": "markdown",
   "metadata": {},
   "source": [
    "(tulis jawaban di sini)"
   ]
  }
 ],
 "metadata": {
  "kernelspec": {
   "display_name": "Python 3",
   "language": "python",
   "name": "python3"
  },
  "language_info": {
   "codemirror_mode": {
    "name": "ipython",
    "version": 3
   },
   "file_extension": ".py",
   "mimetype": "text/x-python",
   "name": "python",
   "nbconvert_exporter": "python",
   "pygments_lexer": "ipython3",
   "version": "3.6.8"
  }
 },
 "nbformat": 4,
 "nbformat_minor": 2
}
