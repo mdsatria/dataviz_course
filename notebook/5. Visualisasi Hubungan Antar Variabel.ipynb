{
 "cells": [
  {
   "cell_type": "markdown",
   "metadata": {},
   "source": [
    "# KORELASI"
   ]
  },
  {
   "cell_type": "markdown",
   "metadata": {},
   "source": [
    "<img src='https://raw.githubusercontent.com/mdsatria/dataviz_course/master/notebook/img/correlation.jpg'>"
   ]
  },
  {
   "cell_type": "markdown",
   "metadata": {},
   "source": [
    "Hingga saat ini kita telah mempelajari memvisualisasikan perbandingan antar kategori dalam variabel, menggambarkan perubahan suatu nilai sesuai dengan waktu (trend over time). Pada pertemuan ini kita akan membahas bagaimana menggambarkan hubungan (korelasi) antar dua variabel (katakanlah variabel $X$ dan variabel $Y$). Khusus untuk penggambaran korelasi, variabel harus bertipe ratio, interval atau ordinal."
   ]
  },
  {
   "cell_type": "markdown",
   "metadata": {},
   "source": [
    "Korelasi adalah nilai yang menggambarkan kuat-lemahnya hubungan/pengaruh dua buah variabel. Korelasi berdasarkan nilainya dapat dikategorikan menjadi dua, yaitu korelasi positif dan korelasi negatif. \n",
    "\n",
    "Korelasi positif menandakan semakin besar nilai $X$, maka nilai $Y$ akan semakin besar juga dan sebaliknya.<br>\n",
    "Korelasi negatif menandakan semakin besar nilai $X$, maka nilai $Y$ akan semakin kecil dan sebaliknya."
   ]
  },
  {
   "cell_type": "code",
   "execution_count": 1,
   "metadata": {},
   "outputs": [],
   "source": [
    "import numpy as np"
   ]
  },
  {
   "cell_type": "code",
   "execution_count": 2,
   "metadata": {},
   "outputs": [
    {
     "name": "stdout",
     "output_type": "stream",
     "text": [
      "[[2.5 2.4]\n",
      " [0.5 0.7]\n",
      " [2.2 2.9]\n",
      " [1.9 2.2]\n",
      " [3.1 3. ]\n",
      " [2.3 2.7]\n",
      " [2.  1.6]\n",
      " [1.  1.1]\n",
      " [1.5 1.6]\n",
      " [1.1 0.9]]\n"
     ]
    }
   ],
   "source": [
    "A = np.array([[2.5 , 2.4],[0.5 , 0.7],[2.2 , 2.9],[1.9, 2.2],[3.1, 3],[2.3, 2.7],[2, 1.6],[1, 1.1],[1.5, 1.6],[1.1, 0.9]])\n",
    "print(A)"
   ]
  },
  {
   "cell_type": "markdown",
   "metadata": {},
   "source": [
    "array $A$ pada contoh diatas memiliki dimensi $10\\times2$, $n=10$ dan $variabel=2$. Variabel pertama kita notasikan dengan $X$ dan variabel kedua kita notasikan dengan $Y$. Kita dapat mengecek korelasi antar $X$ dan $Y$ dengan dua cara. Cara pertama dengan melihat plot scatter dan yang kedua menghitung korelasinya dengan persamaan."
   ]
  },
  {
   "cell_type": "code",
   "execution_count": null,
   "metadata": {},
   "outputs": [],
   "source": []
  },
  {
   "cell_type": "markdown",
   "metadata": {},
   "source": [
    "## Plot Scatter"
   ]
  },
  {
   "cell_type": "code",
   "execution_count": 3,
   "metadata": {},
   "outputs": [],
   "source": [
    "import matplotlib.pyplot as plt"
   ]
  },
  {
   "cell_type": "code",
   "execution_count": 4,
   "metadata": {},
   "outputs": [],
   "source": [
    "plt.style.use('seaborn')"
   ]
  },
  {
   "cell_type": "code",
   "execution_count": null,
   "metadata": {},
   "outputs": [],
   "source": []
  },
  {
   "cell_type": "markdown",
   "metadata": {},
   "source": [
    "Pada grafik di atas, kita bisa melihat adanya pola dalam data. Semakin besar nilai $X$, maka nilai $Y$ akan semakin besar. Untuk mengetahui nilai korelasi secara pasti, kita dapat menghitungnya dengan persamaan Pearson atau Spearman."
   ]
  },
  {
   "cell_type": "code",
   "execution_count": 5,
   "metadata": {},
   "outputs": [
    {
     "data": {
      "image/png": "[encoded data removed]",
      "text/plain": [
       "<Figure size 1152x288 with 3 Axes>"
      ]
     },
     "metadata": {},
     "output_type": "display_data"
    }
   ],
   "source": [
    "s = np.arange(0,10,1)\n",
    "fig, ax = plt.subplots(1,3, figsize=(16,4))\n",
    "ax[0].scatter(s, s*.5)\n",
    "ax[0].set_title('Korelasi Positif +1')\n",
    "ax[1].scatter(s, s[::-1])\n",
    "ax[1].set_title('Korelasi Negatif -1')\n",
    "ax[2].scatter(s, s-s)\n",
    "ax[2].set_title('Tidak Ada Korelasi')\n",
    "plt.show()"
   ]
  },
  {
   "cell_type": "markdown",
   "metadata": {},
   "source": [
    "## Perhitungan Korelasi"
   ]
  },
  {
   "cell_type": "markdown",
   "metadata": {},
   "source": [
    "Seperti yang telah dijelaskan di atas, tipe variabel yang dapat dihitung korelasinya adalah ordinal, interval dan ratio. Terdapat dua buah persamaan yang umum digunakan untuk menghitung korelasi, yaitu **Pearson Correlation** dan **Spearman Correlation**.\n",
    "\n",
    "**Korelasi Pearson** menggambarkan hubungan antara dua buah variabel dengan tipe interval atau ratio. Korelasi Pearson menggambarkan hubungan linear berdasarkan nilai mentah data. Contoh korelaso Pearson adalah hubungan antar suhu udara dan kelembapan.\n",
    "\n",
    "**Korelasi Spearman** menggambarkan hubungan antara dua variabel dengan tipe ordinal, interval atau ratio. Korelasi Spearman lebih umum digunakan untuk menggambarkan hubungan data ordinal. Oleh karena itu, korelasi Spearman berdasarkan nilai yang telah diurutkan alih-alih nilai mentah dari data. Contoh korelasi Spearman adalah hubungan antara nilai pelajaran Bahasa Inggris dengan nilai pelajaran Matematika.\n",
    "\n",
    "Nilai korelasi ($r_{XY}$) antara variabel $X$ dan $Y$  memiliki rentang nilai dari -1 sampai +1.\n",
    "\n",
    "$$-1\\leq r\\leq 1$$\n",
    "\n",
    "Makna nilai koefisien korelasi dijelaskan pada tabel di bawah ini.\n",
    "\n",
    "|Makna Korelasi|Koefisien Positif|Koefisien Negatif|\n",
    "|:---|---:|---|\n",
    "|Sangat Kuat|0.80 hingga 1.00| -0.80 hingga -1.00|\n",
    "|Kuat|0.60 hingga 0.79|-0.60 hingga -0.79|\n",
    "|Sedang|0.40 hingga 0.59|-0.40 hingga -0.59|\n",
    "|Lemah|0.20 hingga 0.39|-0.20 hingga -0.39|\n",
    "|Sangat Lemah|0.01 hingga 0.19|-0.01 hingga -0.19|\n",
    "\n",
    "Nilai korelasi = 0 menandakan tidak ada hubungan sama sekali antara variabel $X$ dan $Y$.\n",
    "\n",
    "\n",
    "Pada perkuliahan ini, kita akan menggunakan korelasi Pearson."
   ]
  },
  {
   "cell_type": "markdown",
   "metadata": {},
   "source": [
    "## Rumus Korelasi Pearson"
   ]
  },
  {
   "cell_type": "markdown",
   "metadata": {},
   "source": [
    "$$r_{XY}={\\frac {\\sum _{i=1}^{n}(X_{i}-{\\bar {X}})(Y_{i}-{\\bar {Y}})}{{\\sqrt {\\sum _{i=1}^{n}(X_{i}-{\\bar {X}})^{2}}}{\\sqrt {\\sum _{i=1}^{n}(Y_{i}-{\\bar {Y}})^{2}}}}}$$\n",
    "\n",
    "\n",
    "dimana :\n",
    "\n",
    "$r_{XY}$ adalah korelasi antara variabel $X$ dan $Y$ <br>\n",
    "$\\bar{X}$ dan $\\bar{Y}$ secara berturut-turut adalah nilai rerata dari $X$ dan $Y$ <br>"
   ]
  },
  {
   "cell_type": "markdown",
   "metadata": {},
   "source": [
    "Perhitungan manual"
   ]
  },
  {
   "cell_type": "code",
   "execution_count": null,
   "metadata": {},
   "outputs": [],
   "source": [
    "t1 = ((X-X.mean()) * (Y-Y.mean())).sum()\n",
    "t1"
   ]
  },
  {
   "cell_type": "code",
   "execution_count": null,
   "metadata": {},
   "outputs": [],
   "source": [
    "t2 = np.sqrt(((X-X.mean())**2).sum())\n",
    "t2"
   ]
  },
  {
   "cell_type": "code",
   "execution_count": null,
   "metadata": {},
   "outputs": [],
   "source": [
    "t3 = np.sqrt(((Y-Y.mean())**2).sum())\n",
    "t3"
   ]
  },
  {
   "cell_type": "code",
   "execution_count": null,
   "metadata": {},
   "outputs": [],
   "source": [
    "t1/(t2*t3)"
   ]
  },
  {
   "cell_type": "markdown",
   "metadata": {},
   "source": [
    "Perhitungan dengan Numpy"
   ]
  },
  {
   "cell_type": "code",
   "execution_count": null,
   "metadata": {},
   "outputs": [],
   "source": []
  },
  {
   "cell_type": "markdown",
   "metadata": {},
   "source": [
    "Apa makna dari nilai korelasi di atas ?"
   ]
  },
  {
   "cell_type": "markdown",
   "metadata": {},
   "source": [
    "$$\\begin{bmatrix}\n",
    "r_{X,X} & r_{X,Y} \\\\ \n",
    "r_{Y,X}  & r_{Y,Y} \n",
    "\\end{bmatrix}$$"
   ]
  },
  {
   "cell_type": "markdown",
   "metadata": {},
   "source": [
    "## Contoh Kasus"
   ]
  },
  {
   "cell_type": "markdown",
   "metadata": {},
   "source": [
    "### Read data"
   ]
  },
  {
   "cell_type": "code",
   "execution_count": null,
   "metadata": {},
   "outputs": [],
   "source": []
  },
  {
   "cell_type": "code",
   "execution_count": null,
   "metadata": {},
   "outputs": [],
   "source": []
  },
  {
   "cell_type": "code",
   "execution_count": null,
   "metadata": {},
   "outputs": [],
   "source": []
  },
  {
   "cell_type": "markdown",
   "metadata": {},
   "source": [
    "* country = negara\n",
    "* year = tahun\n",
    "* children = jumlah rata-rata anak pada per-kapita\n",
    "* child_mortality = tingkat kematian anak di bawah lima tahun per 1000 angka kelahiran\n",
    "* income = penghasilan rata-rata per-kapita per-tahun (USD)\n",
    "* life = rata-rata umur hidup\n",
    "* population = jumlah penduduk\n",
    "* continent = wilayah benua dari negara"
   ]
  },
  {
   "cell_type": "markdown",
   "metadata": {},
   "source": [
    "### Ekplorasi data"
   ]
  },
  {
   "cell_type": "markdown",
   "metadata": {},
   "source": [
    "Daftar negara :"
   ]
  },
  {
   "cell_type": "code",
   "execution_count": null,
   "metadata": {},
   "outputs": [],
   "source": []
  },
  {
   "cell_type": "markdown",
   "metadata": {},
   "source": [
    "Jumlah negara :"
   ]
  },
  {
   "cell_type": "code",
   "execution_count": null,
   "metadata": {},
   "outputs": [],
   "source": []
  },
  {
   "cell_type": "markdown",
   "metadata": {},
   "source": [
    "Rentang tahun :"
   ]
  },
  {
   "cell_type": "code",
   "execution_count": null,
   "metadata": {},
   "outputs": [],
   "source": []
  },
  {
   "cell_type": "markdown",
   "metadata": {},
   "source": [
    "Deskripsi atribut numerik :"
   ]
  },
  {
   "cell_type": "code",
   "execution_count": null,
   "metadata": {},
   "outputs": [],
   "source": []
  },
  {
   "cell_type": "markdown",
   "metadata": {},
   "source": [
    "Ingat, fungsi *.describe()* hanya dapat dijalankan pada atribut numerik. Namun, tidak semua atribut numerik (angka) berarti interval atau ratio. <br>\n",
    "\n",
    "Manakah atribut yang bertipe interval/ratio pada dataset di atas?\n"
   ]
  },
  {
   "cell_type": "markdown",
   "metadata": {},
   "source": [
    "### Data cleaning"
   ]
  },
  {
   "cell_type": "markdown",
   "metadata": {},
   "source": [
    "Cek jumlah missing value pada setiap kolom"
   ]
  },
  {
   "cell_type": "code",
   "execution_count": null,
   "metadata": {},
   "outputs": [],
   "source": []
  },
  {
   "cell_type": "markdown",
   "metadata": {},
   "source": [
    "Cek row dengan missing value"
   ]
  },
  {
   "cell_type": "code",
   "execution_count": null,
   "metadata": {},
   "outputs": [],
   "source": []
  },
  {
   "cell_type": "code",
   "execution_count": null,
   "metadata": {},
   "outputs": [],
   "source": []
  },
  {
   "cell_type": "code",
   "execution_count": null,
   "metadata": {},
   "outputs": [],
   "source": []
  },
  {
   "cell_type": "markdown",
   "metadata": {},
   "source": [
    "Dari data di atas, kita mengetahui bahwa Andorra, Dominica, Liechtenstein, Marshall Islands, Monaco, Nauru, Palau, Saint Kitts and Nevis, San Marino dan Tuvalu tidak memiliki data *children*, *life* dan  *child_mortality* yang lengkap hampir sepanjang rentang tahun dataset tersebut. Untuk itu, akan lebih baik kita menghapus data negara tersebut terlebih dahulu."
   ]
  },
  {
   "cell_type": "code",
   "execution_count": null,
   "metadata": {},
   "outputs": [],
   "source": []
  },
  {
   "cell_type": "code",
   "execution_count": null,
   "metadata": {},
   "outputs": [],
   "source": []
  },
  {
   "cell_type": "code",
   "execution_count": null,
   "metadata": {},
   "outputs": [],
   "source": []
  },
  {
   "cell_type": "markdown",
   "metadata": {},
   "source": [
    "Pada penanganan missing value untuk dataset ini, kita akan berusaha mengisi nilai missing value dengan nilai sebelumnya. Misalnya saja nilai *life* di Indonesia pada tahun 1950 tidak ada (missing value). Namun, pada tahun sebelumnya (1949) Indonesia memiliki nilai *life*. Kita akan mengisi nilai missing value dengan nilai tahun sebelumnya pada negara yang sama.\n",
    "\n",
    "Untuk itu, terlebih dahulu kita harus memastikan data kita tersortir dari *country* kemudian *year*."
   ]
  },
  {
   "cell_type": "code",
   "execution_count": null,
   "metadata": {},
   "outputs": [],
   "source": []
  },
  {
   "cell_type": "code",
   "execution_count": null,
   "metadata": {},
   "outputs": [],
   "source": []
  },
  {
   "cell_type": "markdown",
   "metadata": {},
   "source": [
    "Setelah data tersortir, kita mengisi missing value dengan nilai sebelumnya menggunakan method 'ffill' di Pandas *fillna()*"
   ]
  },
  {
   "cell_type": "code",
   "execution_count": null,
   "metadata": {},
   "outputs": [],
   "source": []
  },
  {
   "cell_type": "code",
   "execution_count": null,
   "metadata": {},
   "outputs": [],
   "source": []
  },
  {
   "cell_type": "code",
   "execution_count": null,
   "metadata": {},
   "outputs": [],
   "source": []
  },
  {
   "cell_type": "markdown",
   "metadata": {},
   "source": [
    "Kemudian untuk memudahkan akses data, kita akan menset *year* sebagai index dari data tanpa menghapus kolom *year*."
   ]
  },
  {
   "cell_type": "code",
   "execution_count": null,
   "metadata": {},
   "outputs": [],
   "source": []
  },
  {
   "cell_type": "code",
   "execution_count": null,
   "metadata": {},
   "outputs": [],
   "source": []
  },
  {
   "cell_type": "markdown",
   "metadata": {},
   "source": [
    "Setelah menset index, hal yang tidak kalah penting kita lakukan adalah mensorting dataset berdasarkan index."
   ]
  },
  {
   "cell_type": "code",
   "execution_count": null,
   "metadata": {},
   "outputs": [],
   "source": []
  },
  {
   "cell_type": "markdown",
   "metadata": {},
   "source": [
    "Memilih data tahun 2000"
   ]
  },
  {
   "cell_type": "code",
   "execution_count": null,
   "metadata": {},
   "outputs": [],
   "source": []
  },
  {
   "cell_type": "markdown",
   "metadata": {},
   "source": [
    "Memilih data dengan rentang tahun"
   ]
  },
  {
   "cell_type": "code",
   "execution_count": null,
   "metadata": {},
   "outputs": [],
   "source": []
  },
  {
   "cell_type": "markdown",
   "metadata": {},
   "source": [
    "Memilih tahun yang berbeda"
   ]
  },
  {
   "cell_type": "code",
   "execution_count": null,
   "metadata": {},
   "outputs": [],
   "source": []
  },
  {
   "cell_type": "markdown",
   "metadata": {},
   "source": [
    "### Menghitung korelasi dengan Pandas"
   ]
  },
  {
   "cell_type": "code",
   "execution_count": null,
   "metadata": {},
   "outputs": [],
   "source": []
  },
  {
   "cell_type": "code",
   "execution_count": null,
   "metadata": {},
   "outputs": [],
   "source": []
  },
  {
   "cell_type": "markdown",
   "metadata": {},
   "source": [
    "--------------------"
   ]
  },
  {
   "cell_type": "markdown",
   "metadata": {},
   "source": [
    "### Visualisasi hubungan variabel"
   ]
  },
  {
   "cell_type": "markdown",
   "metadata": {},
   "source": [
    "**Visualisasi hubungan rata-rata pendapatan per kapita dengan tingkat kematian anak.**"
   ]
  },
  {
   "cell_type": "markdown",
   "metadata": {},
   "source": [
    "*Dengan matplotlib*"
   ]
  },
  {
   "cell_type": "code",
   "execution_count": null,
   "metadata": {},
   "outputs": [],
   "source": []
  },
  {
   "cell_type": "code",
   "execution_count": null,
   "metadata": {},
   "outputs": [],
   "source": []
  },
  {
   "cell_type": "markdown",
   "metadata": {},
   "source": [
    "*Dengan seaborn*"
   ]
  },
  {
   "cell_type": "code",
   "execution_count": null,
   "metadata": {},
   "outputs": [],
   "source": []
  },
  {
   "cell_type": "markdown",
   "metadata": {},
   "source": [
    "**Visualisasi hubungan tingkat kematian anak dengan rerata umur tahun 2000**"
   ]
  },
  {
   "cell_type": "code",
   "execution_count": null,
   "metadata": {},
   "outputs": [],
   "source": []
  },
  {
   "cell_type": "markdown",
   "metadata": {},
   "source": [
    "**Visualisasi hubungan rata-rata pendapatan per kapita dengan rata-rata umur berdasarkan wilayah beserta informasi jumlah penduduk.**"
   ]
  },
  {
   "cell_type": "code",
   "execution_count": null,
   "metadata": {},
   "outputs": [],
   "source": []
  },
  {
   "cell_type": "markdown",
   "metadata": {},
   "source": [
    "**Visualisasi hubungan pendapatan per-tahun dengan rerata umur penduduk dunia tahun 1900-2000**"
   ]
  },
  {
   "cell_type": "code",
   "execution_count": null,
   "metadata": {
    "scrolled": false
   },
   "outputs": [],
   "source": []
  },
  {
   "cell_type": "markdown",
   "metadata": {},
   "source": [
    "**Visualisasi hubungan pendapatan per-tahun dengan rerata pendapatan pada tahun 2000 di setiap benua**"
   ]
  },
  {
   "cell_type": "code",
   "execution_count": null,
   "metadata": {
    "scrolled": false
   },
   "outputs": [],
   "source": []
  }
 ],
 "metadata": {
  "kernelspec": {
   "display_name": "Python 3",
   "language": "python",
   "name": "python3"
  },
  "language_info": {
   "codemirror_mode": {
    "name": "ipython",
    "version": 3
   },
   "file_extension": ".py",
   "mimetype": "text/x-python",
   "name": "python",
   "nbconvert_exporter": "python",
   "pygments_lexer": "ipython3",
   "version": "3.6.8"
  }
 },
 "nbformat": 4,
 "nbformat_minor": 2
}
